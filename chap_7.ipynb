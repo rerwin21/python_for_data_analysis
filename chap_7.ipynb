{
 "cells": [
  {
   "cell_type": "markdown",
   "metadata": {},
   "source": [
    "# Data Wrangling: Clean, Transform, Merge, Reshape"
   ]
  },
  {
   "cell_type": "markdown",
   "metadata": {},
   "source": [
    "## Combining and Merging Data Sets\n",
    "* pandas.merge - connects rows DataFrames based on one or more keys. This will be familiar to users of SQL or to other relational databases, as it implements database *join* operations\n",
    "* pandas.concat - glues or stacks together objects along an axis\n",
    "* combine_first - instance method enables splicing together overlapping data to fill in missing values in one object with values from another"
   ]
  },
  {
   "cell_type": "markdown",
   "metadata": {},
   "source": [
    "### Database-style DataFrame Merges\n",
    "*Merge* or *join* operations"
   ]
  }
 ],
 "metadata": {
  "kernelspec": {
   "display_name": "Python 2",
   "language": "python",
   "name": "python2"
  },
  "language_info": {
   "codemirror_mode": {
    "name": "ipython",
    "version": 2
   },
   "file_extension": ".py",
   "mimetype": "text/x-python",
   "name": "python",
   "nbconvert_exporter": "python",
   "pygments_lexer": "ipython2",
   "version": "2.7.11"
  }
 },
 "nbformat": 4,
 "nbformat_minor": 0
}
